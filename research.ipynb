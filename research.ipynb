{
 "cells": [
  {
   "cell_type": "code",
   "execution_count": 44,
   "metadata": {},
   "outputs": [],
   "source": [
    "from langchain_community.document_loaders import YoutubeLoader\n",
    "from langchain_community.document_loaders.youtube import TranscriptFormat"
   ]
  },
  {
   "cell_type": "code",
   "execution_count": 45,
   "metadata": {},
   "outputs": [],
   "source": [
    "loader = YoutubeLoader.from_youtube_url(\n",
    "    \"https://www.youtube.com/watch?v=QsYGlZkevEg\", **{\"add_video_info\":True, \"transcript_format\":TranscriptFormat.LINES}\n",
    ")"
   ]
  },
  {
   "cell_type": "code",
   "execution_count": 46,
   "metadata": {},
   "outputs": [],
   "source": [
    "transcripts = loader.load()"
   ]
  },
  {
   "cell_type": "code",
   "execution_count": 47,
   "metadata": {},
   "outputs": [
    {
     "data": {
      "text/plain": [
       "[Document(page_content='LADIES AND GENTLEMEN, PEDRO', metadata={'start': 0.467, 'duration': 21.487}),\n",
       " Document(page_content='PASCAL!', metadata={'start': 3.57, 'duration': 20.453}),\n",
       " Document(page_content='[ CHEERS AND APPLAUSE ]', metadata={'start': 16.783, 'duration': 7.807}),\n",
       " Document(page_content='>> THANK YOU, THANK YOU.', metadata={'start': 22.021, 'duration': 4.671}),\n",
       " Document(page_content='THANK YOU VERY MUCH.', metadata={'start': 24.09, 'duration': 6.473}),\n",
       " Document(page_content=\"I'M SO EXCITED TO BE HERE.\", metadata={'start': 24.657, 'duration': 9.109}),\n",
       " Document(page_content='THANK YOU.', metadata={'start': 26.759, 'duration': 10.944}),\n",
       " Document(page_content='I SPENT THE LAST YEAR SHOOTING A', metadata={'start': 30.63, 'duration': 7.34}),\n",
       " Document(page_content='SHOW CALLED \"THE LAST OF US\" ON', metadata={'start': 33.833, 'duration': 6.64}),\n",
       " Document(page_content='HBO.', metadata={'start': 37.77, 'duration': 5.005}),\n",
       " Document(page_content='FOR SOME HBO SHOES, YOU GET TO', metadata={'start': 38.037, 'duration': 5.939}),\n",
       " Document(page_content='SHOOT IN A FIVE STAR ITALIAN', metadata={'start': 40.54, 'duration': 5.171}),\n",
       " Document(page_content='RESORT SURROUNDED BY BEAUTIFUL', metadata={'start': 42.842, 'duration': 3.537}),\n",
       " Document(page_content=\"PEOPLE, BUT I SAID, NO, THAT'S\", metadata={'start': 44.043, 'duration': 4.838}),\n",
       " Document(page_content='TOO EASY.', metadata={'start': 45.778, 'duration': 5.639}),\n",
       " Document(page_content='I WANT TO SHOOT IN A FREEZING', metadata={'start': 46.479, 'duration': 6.673}),\n",
       " Document(page_content='CANADIAN FOREST WHILE BEING', metadata={'start': 48.948, 'duration': 5.806}),\n",
       " Document(page_content='CHASED AROUND BY A GUY WHOSE', metadata={'start': 51.484, 'duration': 5.772}),\n",
       " Document(page_content='HEAD LOOKS LIKE A GENITAL WART.', metadata={'start': 53.219, 'duration': 8.508}),\n",
       " Document(page_content='IT IS AN HONOR BEING A PART OF', metadata={'start': 54.821, 'duration': 8.642}),\n",
       " Document(page_content='THESE HUGE FRANCHISEs LIKE \"GAME', metadata={'start': 57.323, 'duration': 8.442}),\n",
       " Document(page_content='OF THRONES\" AND \"STAR WARS,\" BUT', metadata={'start': 61.794, 'duration': 4.672}),\n",
       " Document(page_content=\"I'M STILL GETTING USED TO PEOPLE\", metadata={'start': 63.53, 'duration': 5.538}),\n",
       " Document(page_content='RECOGNIZING ME.', metadata={'start': 65.832, 'duration': 5.939}),\n",
       " Document(page_content='THE OTHER DAY, A GUY STOPPED ME', metadata={'start': 66.533, 'duration': 7.273}),\n",
       " Document(page_content='ON THE STREET AND SAYS, MY SON', metadata={'start': 69.135, 'duration': 6.473}),\n",
       " Document(page_content='LOVES \"THE MANDALORIAN\" AND THE', metadata={'start': 71.838, 'duration': 5.472}),\n",
       " Document(page_content=\"NEXT THING I KNOW, I'M FACE\", metadata={'start': 73.873, 'duration': 5.606}),\n",
       " Document(page_content='TIMING WITH A 6-YEAR-OLD WHO HAS', metadata={'start': 75.675, 'duration': 5.439}),\n",
       " Document(page_content='NO IDEA WHO I AM BECAUSE MY', metadata={'start': 77.377, 'duration': 4.537}),\n",
       " Document(page_content='CHARACTER WEARS A MASK THE', metadata={'start': 79.546, 'duration': 5.071}),\n",
       " Document(page_content='ENTIRE SHOW.', metadata={'start': 81.181, 'duration': 5.638}),\n",
       " Document(page_content='THE GUY IS LIKE, DO THE MANDO', metadata={'start': 82.014, 'duration': 5.106}),\n",
       " Document(page_content=\"VOICE, BUT IT'S LIKE A BEDROOM\", metadata={'start': 84.684, 'duration': 7.674}),\n",
       " Document(page_content='VOICE.', metadata={'start': 86.886, 'duration': 5.772}),\n",
       " Document(page_content='WITHOUT THE MASK, IT JUST SOUNDS', metadata={'start': 87.187, 'duration': 7.607}),\n",
       " Document(page_content='PORNY.', metadata={'start': 92.425, 'duration': 4.171}),\n",
       " Document(page_content='PEOPLE WALKING BY ON THE STREET', metadata={'start': 92.725, 'duration': 4.471}),\n",
       " Document(page_content='SEE ME WHISPERING TO A', metadata={'start': 94.861, 'duration': 4.204}),\n",
       " Document(page_content='6-YEAR-OLD KID.', metadata={'start': 96.663, 'duration': 9.342}),\n",
       " Document(page_content='I CAN BRING YOU IN WARM, OR I', metadata={'start': 97.296, 'duration': 10.377}),\n",
       " Document(page_content='CAN BRING YOU IN COLD.', metadata={'start': 99.132, 'duration': 12.846}),\n",
       " Document(page_content='EVEN THOUGH I CAME TO THE U.S.', metadata={'start': 106.072, 'duration': 7.674}),\n",
       " Document(page_content='WHEN I WAS LITTLE, I WAS BORN IN', metadata={'start': 107.74, 'duration': 8.275}),\n",
       " Document(page_content='CHILE, AND I HAVE 34 FIRST', metadata={'start': 112.045, 'duration': 5.705}),\n",
       " Document(page_content='COUSINS WHO ARE STILL THERE.', metadata={'start': 113.813, 'duration': 5.572}),\n",
       " Document(page_content=\"THEY'RE VERY PROUD OF ME.\", metadata={'start': 116.082, 'duration': 5.405}),\n",
       " Document(page_content=\"I KNOW THEY'RE PROUD BECAUSE\", metadata={'start': 117.817, 'duration': 4.905}),\n",
       " Document(page_content='THEY GIVE MY PHONE NUMBER TO', metadata={'start': 119.452, 'duration': 5.739}),\n",
       " Document(page_content='EVERY PERSON THEY MEET, WHICH', metadata={'start': 121.587, 'duration': 5.039}),\n",
       " Document(page_content='MEANS EVERY DAY, SOMEONE IN', metadata={'start': 122.789, 'duration': 5.839}),\n",
       " Document(page_content='SANTIAGO WILL TEXT ME STUFF', metadata={'start': 125.258, 'duration': 6.406}),\n",
       " Document(page_content='LIKE, CAN YOU COME TO MY', metadata={'start': 126.693, 'duration': 6.206}),\n",
       " Document(page_content='WEDDING, OR CAN YOU SING MY', metadata={'start': 128.695, 'duration': 8.041}),\n",
       " Document(page_content='PRIEST HAPPY BIRTHDAY, OR IS', metadata={'start': 131.731, 'duration': 6.54}),\n",
       " Document(page_content='BABY YODA MEAN IN REAL LIFE.', metadata={'start': 132.966, 'duration': 7.84}),\n",
       " Document(page_content='SO I HAVE TO BE LIKE NO, NO, AND', metadata={'start': 136.803, 'duration': 6.673}),\n",
       " Document(page_content='HIS NAME IS GROGU.', metadata={'start': 138.338, 'duration': 5.438}),\n",
       " Document(page_content=\"BUT MY COUSINS WEREN'T ALWAYS SO\", metadata={'start': 140.873, 'duration': 4.505}),\n",
       " Document(page_content='PROUD.', metadata={'start': 143.543, 'duration': 4.037}),\n",
       " Document(page_content='EARLY IN MY CAREER, I PLAYED', metadata={'start': 143.843, 'duration': 6.406}),\n",
       " Document(page_content='SMALL PARTS IN EVERY CRIME SHOW.', metadata={'start': 145.445, 'duration': 9.175}),\n",
       " Document(page_content='I EVEN PLAYED TWO DIFFERENT', metadata={'start': 147.647, 'duration': 9.943}),\n",
       " Document(page_content='CHARACTERS ON \"LAW AND ORDER.\"', metadata={'start': 150.349, 'duration': 7.541}),\n",
       " Document(page_content='TITO CABASSA WHO LOOKED LIKE', metadata={'start': 154.687, 'duration': 5.606}),\n",
       " Document(page_content='THIS.', metadata={'start': 157.657, 'duration': 5.372}),\n",
       " Document(page_content='AND ONE YEAR LATER, I PLAYED', metadata={'start': 157.957, 'duration': 5.372}),\n",
       " Document(page_content='REGGIE LUCKMAN WHO LOOKS LIKE', metadata={'start': 160.393, 'duration': 5.772}),\n",
       " Document(page_content='THIS.', metadata={'start': 163.096, 'duration': 3.369}),\n",
       " Document(page_content='AND THAT, MY FRIENDS, IS CALLED', metadata={'start': 163.396, 'duration': 5.705}),\n",
       " Document(page_content='RANGE.', metadata={'start': 166.232, 'duration': 4.071}),\n",
       " Document(page_content='BUT IT IS AMAZING TO BE HERE,', metadata={'start': 166.565, 'duration': 7.108}),\n",
       " Document(page_content='LIKE I SAID.', metadata={'start': 169.168, 'duration': 5.873}),\n",
       " Document(page_content='I WAS BORN IN CHILE, AND NINE', metadata={'start': 170.403, 'duration': 6.139}),\n",
       " Document(page_content='MONTHS LATER, MY PARENTS FLED', metadata={'start': 173.773, 'duration': 3.47}),\n",
       " Document(page_content='AND BROUGHT ME AND MY SISTER TO', metadata={'start': 175.108, 'duration': 3.67}),\n",
       " Document(page_content='THE U.S.', metadata={'start': 176.609, 'duration': 4.271}),\n",
       " Document(page_content='THEY WERE SO BRAVE, AND WITHOUT', metadata={'start': 177.31, 'duration': 5.338}),\n",
       " Document(page_content=\"THEM, I WOULDN'T BE HERE IN THIS\", metadata={'start': 178.845, 'duration': 4.838}),\n",
       " Document(page_content='WONDERFUL COUNTRY, AND I', metadata={'start': 180.947, 'duration': 4.104}),\n",
       " Document(page_content=\"CERTAINLY WOULDN'T BE STANDING\", metadata={'start': 182.715, 'duration': 5.138}),\n",
       " Document(page_content='HERE WITH YOU ALL TONIGHT.', metadata={'start': 183.75, 'duration': 5.004}),\n",
       " Document(page_content='SO TO ALL MY FAMILY WATCHING IN', metadata={'start': 185.118, 'duration': 8.908}),\n",
       " Document(page_content='CHILE, I WANT TO SAY', metadata={'start': 187.92, 'duration': 8.342}),\n",
       " Document(page_content='[ SPEAKING NON-ENGLISH ]', metadata={'start': 188.821, 'duration': 9.41}),\n",
       " Document(page_content='WHICH MEANS, I LOVE YOU, I MISS', metadata={'start': 194.093, 'duration': 4.905}),\n",
       " Document(page_content='YOU, AND STOP GIVING OUT MY', metadata={'start': 196.329, 'duration': 6.339}),\n",
       " Document(page_content='PHONE NUMBER.', metadata={'start': 198.298, 'duration': 5.271}),\n",
       " Document(page_content=\"WE'VE GOT AN AMAZING SHOW FOR\", metadata={'start': 199.098, 'duration': 10.511}),\n",
       " Document(page_content='YOU TONIGHT.', metadata={'start': 202.735, 'duration': 6.874}),\n",
       " Document(page_content='COLDPLAY IS HERE, SO STICK', metadata={'start': 203.636, 'duration': 5.973})]"
      ]
     },
     "execution_count": 47,
     "metadata": {},
     "output_type": "execute_result"
    }
   ],
   "source": [
    "transcripts"
   ]
  },
  {
   "cell_type": "code",
   "execution_count": 8,
   "metadata": {},
   "outputs": [],
   "source": [
    "from youtube_transcript_api import YouTubeTranscriptApi"
   ]
  },
  {
   "cell_type": "code",
   "execution_count": 20,
   "metadata": {},
   "outputs": [],
   "source": [
    "transcript = YouTubeTranscriptApi.get_transcript(video_id=str('QsYGlZkevEg'),languages=['en'])"
   ]
  },
  {
   "cell_type": "code",
   "execution_count": 28,
   "metadata": {},
   "outputs": [],
   "source": [
    "transcript_list = YouTubeTranscriptApi.list_transcripts(video_id=str('QsYGlZkevEg'))"
   ]
  },
  {
   "cell_type": "code",
   "execution_count": 29,
   "metadata": {},
   "outputs": [],
   "source": [
    "transcript=transcript_list.find_transcript([\"en\"])"
   ]
  },
  {
   "cell_type": "code",
   "execution_count": 51,
   "metadata": {},
   "outputs": [
    {
     "data": {
      "text/plain": [
       "0.467"
      ]
     },
     "execution_count": 51,
     "metadata": {},
     "output_type": "execute_result"
    }
   ],
   "source": [
    "# transcript_peices\n",
    "transcript_peices = transcript.fetch()\n",
    "transcript_peices[0]['start']"
   ]
  },
  {
   "cell_type": "code",
   "execution_count": 1,
   "metadata": {},
   "outputs": [],
   "source": [
    "from langchain_community.document_loaders.base import BaseLoader\n",
    "from langchain_core.documents import Document\n",
    "from typing import Any, Dict, List, Optional, Sequence, Union\n",
    "from enum import Enum\n",
    "from urllib.parse import parse_qs, urlparse\n"
   ]
  },
  {
   "cell_type": "code",
   "execution_count": 2,
   "metadata": {},
   "outputs": [],
   "source": [
    "\n",
    "class TranscriptFormat(Enum):\n",
    "    \"\"\"Transcript format.\"\"\"\n",
    "\n",
    "    TEXT = \"text\"\n",
    "    LINES = \"lines\"\n"
   ]
  },
  {
   "cell_type": "code",
   "execution_count": 3,
   "metadata": {},
   "outputs": [],
   "source": [
    "ALLOWED_SCHEMAS = {\"http\", \"https\"}\n",
    "ALLOWED_NETLOCK = {\n",
    "    \"youtu.be\",\n",
    "    \"m.youtube.com\",\n",
    "    \"youtube.com\",\n",
    "    \"www.youtube.com\",\n",
    "    \"www.youtube-nocookie.com\",\n",
    "    \"vid.plus\",\n",
    "}"
   ]
  },
  {
   "cell_type": "code",
   "execution_count": 4,
   "metadata": {},
   "outputs": [],
   "source": [
    "\n",
    "\n",
    "def _parse_video_id(url: str) -> Optional[str]:\n",
    "    \"\"\"Parse a youtube url and return the video id if valid, otherwise None.\"\"\"\n",
    "    parsed_url = urlparse(url)\n",
    "\n",
    "    if parsed_url.scheme not in ALLOWED_SCHEMAS:\n",
    "        return None\n",
    "\n",
    "    if parsed_url.netloc not in ALLOWED_NETLOCK:\n",
    "        return None\n",
    "\n",
    "    path = parsed_url.path\n",
    "\n",
    "    if path.endswith(\"/watch\"):\n",
    "        query = parsed_url.query\n",
    "        parsed_query = parse_qs(query)\n",
    "        if \"v\" in parsed_query:\n",
    "            ids = parsed_query[\"v\"]\n",
    "            video_id = ids if isinstance(ids, str) else ids[0]\n",
    "        else:\n",
    "            return None\n",
    "    else:\n",
    "        path = parsed_url.path.lstrip(\"/\")\n",
    "        video_id = path.split(\"/\")[-1]\n",
    "\n",
    "    if len(video_id) != 11:  # Video IDs are 11 characters long\n",
    "        return None\n",
    "\n",
    "    return video_id\n"
   ]
  },
  {
   "cell_type": "code",
   "execution_count": 16,
   "metadata": {},
   "outputs": [],
   "source": [
    "class YoutubeLoader(BaseLoader):\n",
    "    \"\"\"Load `YouTube` transcripts.\"\"\"\n",
    "\n",
    "    def __init__(\n",
    "        self,\n",
    "        video_id: str,\n",
    "        add_video_info: bool = False,\n",
    "        language: Union[str, Sequence[str]] = \"en\",\n",
    "        translation: Optional[str] = None,\n",
    "        transcript_format: TranscriptFormat = TranscriptFormat.TEXT,\n",
    "        continue_on_failure: bool = False,\n",
    "        start_time : float = None,\n",
    "        end_time : float = None,\n",
    "        \n",
    "    ):\n",
    "        \"\"\"Initialize with YouTube video ID.\"\"\"\n",
    "        self.video_id = video_id\n",
    "        self.add_video_info = add_video_info\n",
    "        self.language = language\n",
    "        if isinstance(language, str):\n",
    "            self.language = [language]\n",
    "        else:\n",
    "            self.language = language\n",
    "        self.translation = translation\n",
    "        self.transcript_format = transcript_format\n",
    "        self.continue_on_failure = continue_on_failure\n",
    "        self.start_time = start_time\n",
    "        self.end_time = end_time\n",
    "\n",
    "    @staticmethod\n",
    "    def extract_video_id(youtube_url: str) -> str:\n",
    "        \"\"\"Extract video id from common YT urls.\"\"\"\n",
    "        video_id = _parse_video_id(youtube_url)\n",
    "        if not video_id:\n",
    "            raise ValueError(\n",
    "                f\"Could not determine the video ID for the URL {youtube_url}\"\n",
    "            )\n",
    "        return video_id\n",
    "\n",
    "    # @classmethod\n",
    "    # def from_youtube_url(cls, youtube_url: str, **kwargs: Any) -> YoutubeLoader:\n",
    "    #     \"\"\"Given youtube URL, load video.\"\"\"\n",
    "    #     video_id = cls.extract_video_id(youtube_url)\n",
    "    #     return cls(video_id, **kwargs)\n",
    "\n",
    "\n",
    "    def filter_dicts_by_time_stamp(self, list_of_dicts, start=None, end=None):\n",
    "    # Define the filtering function based on the provided min and/or max values\n",
    "        def is_within_range(d):\n",
    "            if start is not None and d['start'] < start:\n",
    "                return False\n",
    "            if end is not None and d['start'] > end:\n",
    "                return False\n",
    "            return True\n",
    "\n",
    "        # Apply the filtering function to the list\n",
    "        return [d for d in list_of_dicts if is_within_range(d)]\n",
    "    \n",
    "    def load(self) -> List[Document]:\n",
    "        \"\"\"Load documents.\"\"\"\n",
    "        try:\n",
    "            from youtube_transcript_api import (\n",
    "                NoTranscriptFound,\n",
    "                TranscriptsDisabled,\n",
    "                YouTubeTranscriptApi,\n",
    "            )\n",
    "        except ImportError:\n",
    "            raise ImportError(\n",
    "                \"Could not import youtube_transcript_api python package. \"\n",
    "                \"Please install it with `pip install youtube-transcript-api`.\"\n",
    "            )\n",
    "\n",
    "        metadata = {\"source\": self.video_id}\n",
    "\n",
    "        if self.add_video_info:\n",
    "            # Get more video meta info\n",
    "            # Such as title, description, thumbnail url, publish_date\n",
    "            video_info = self._get_video_info()\n",
    "            metadata.update(video_info)\n",
    "\n",
    "        try:\n",
    "            transcript_list = YouTubeTranscriptApi.list_transcripts(self.video_id)\n",
    "        except TranscriptsDisabled:\n",
    "            return []\n",
    "\n",
    "        try:\n",
    "            transcript = transcript_list.find_transcript(self.language)\n",
    "        except NoTranscriptFound:\n",
    "            transcript = transcript_list.find_transcript([\"en\"])\n",
    "\n",
    "        if self.translation is not None:\n",
    "            transcript = transcript.translate(self.translation)\n",
    "\n",
    "        transcript_pieces = transcript.fetch()\n",
    "        filetred_transcrpit_peices =[]\n",
    "        \n",
    "        # Time Stamp Retrieval\n",
    "\n",
    "        filetred_transcrpit_peices = self.filter_dicts_by_time_stamp(list_of_dicts=transcript_pieces, start=self.start_time, end=self.end_time)\n",
    "\n",
    "        if self.transcript_format == TranscriptFormat.TEXT:\n",
    "            transcript = \" \".join([t[\"text\"].strip(\" \") for t in filetred_transcrpit_peices])\n",
    "            return [Document(page_content=transcript, metadata=metadata)]\n",
    "        elif self.transcript_format == TranscriptFormat.LINES:\n",
    "            return [\n",
    "                Document(\n",
    "                    page_content=t[\"text\"].strip(\" \"),\n",
    "                    metadata=dict((key, t[key]) for key in t if key != \"text\"),\n",
    "                )\n",
    "                for t in filetred_transcrpit_peices\n",
    "            ]\n",
    "        else:\n",
    "            raise ValueError(\"Unknown transcript format.\")\n",
    "\n",
    "    def _get_video_info(self) -> dict:\n",
    "        \"\"\"Get important video information.\n",
    "\n",
    "        Components are:\n",
    "            - title\n",
    "            - description\n",
    "            - thumbnail url,\n",
    "            - publish_date\n",
    "            - channel_author\n",
    "            - and more.\n",
    "        \"\"\"\n",
    "        try:\n",
    "            from pytube import YouTube\n",
    "\n",
    "        except ImportError:\n",
    "            raise ImportError(\n",
    "                \"Could not import pytube python package. \"\n",
    "                \"Please install it with `pip install pytube`.\"\n",
    "            )\n",
    "        yt = YouTube(f\"https://www.youtube.com/watch?v={self.video_id}\")\n",
    "        video_info = {\n",
    "            \"title\": yt.title or \"Unknown\",\n",
    "            \"description\": yt.description or \"Unknown\",\n",
    "            \"view_count\": yt.views or 0,\n",
    "            \"thumbnail_url\": yt.thumbnail_url or \"Unknown\",\n",
    "            \"publish_date\": yt.publish_date.strftime(\"%Y-%m-%d %H:%M:%S\")\n",
    "            if yt.publish_date\n",
    "            else \"Unknown\",\n",
    "            \"length\": yt.length or 0,\n",
    "            \"author\": yt.author or \"Unknown\",\n",
    "        }\n",
    "        return video_info\n",
    "\n"
   ]
  },
  {
   "cell_type": "code",
   "execution_count": 26,
   "metadata": {},
   "outputs": [],
   "source": [
    "fileter_loader = YoutubeLoader(\n",
    "    \"QsYGlZkevEg\", **{\"add_video_info\":True, \"start_time\":3, \"end_time\": 50,\"transcript_format\":TranscriptFormat.LINES}\n",
    ")"
   ]
  },
  {
   "cell_type": "code",
   "execution_count": 27,
   "metadata": {},
   "outputs": [],
   "source": [
    "transcripts = fileter_loader.load()"
   ]
  },
  {
   "cell_type": "code",
   "execution_count": 28,
   "metadata": {},
   "outputs": [
    {
     "data": {
      "text/plain": [
       "[Document(page_content='PASCAL!', metadata={'start': 3.57, 'duration': 20.453}),\n",
       " Document(page_content='[ CHEERS AND APPLAUSE ]', metadata={'start': 16.783, 'duration': 7.807}),\n",
       " Document(page_content='>> THANK YOU, THANK YOU.', metadata={'start': 22.021, 'duration': 4.671}),\n",
       " Document(page_content='THANK YOU VERY MUCH.', metadata={'start': 24.09, 'duration': 6.473}),\n",
       " Document(page_content=\"I'M SO EXCITED TO BE HERE.\", metadata={'start': 24.657, 'duration': 9.109}),\n",
       " Document(page_content='THANK YOU.', metadata={'start': 26.759, 'duration': 10.944}),\n",
       " Document(page_content='I SPENT THE LAST YEAR SHOOTING A', metadata={'start': 30.63, 'duration': 7.34}),\n",
       " Document(page_content='SHOW CALLED \"THE LAST OF US\" ON', metadata={'start': 33.833, 'duration': 6.64}),\n",
       " Document(page_content='HBO.', metadata={'start': 37.77, 'duration': 5.005}),\n",
       " Document(page_content='FOR SOME HBO SHOES, YOU GET TO', metadata={'start': 38.037, 'duration': 5.939}),\n",
       " Document(page_content='SHOOT IN A FIVE STAR ITALIAN', metadata={'start': 40.54, 'duration': 5.171}),\n",
       " Document(page_content='RESORT SURROUNDED BY BEAUTIFUL', metadata={'start': 42.842, 'duration': 3.537}),\n",
       " Document(page_content=\"PEOPLE, BUT I SAID, NO, THAT'S\", metadata={'start': 44.043, 'duration': 4.838}),\n",
       " Document(page_content='TOO EASY.', metadata={'start': 45.778, 'duration': 5.639}),\n",
       " Document(page_content='I WANT TO SHOOT IN A FREEZING', metadata={'start': 46.479, 'duration': 6.673}),\n",
       " Document(page_content='CANADIAN FOREST WHILE BEING', metadata={'start': 48.948, 'duration': 5.806})]"
      ]
     },
     "execution_count": 28,
     "metadata": {},
     "output_type": "execute_result"
    }
   ],
   "source": [
    "transcripts"
   ]
  },
  {
   "cell_type": "code",
   "execution_count": 60,
   "metadata": {},
   "outputs": [
    {
     "name": "stdout",
     "output_type": "stream",
     "text": [
      "Filtered list with min_value=6: [{'a': 8, 'b': 4}, {'a': 10, 'b': 5}]\n",
      "Filtered list with max_value=7: [{'a': 1, 'b': 2}, {'a': 5, 'b': 3}]\n",
      "Filtered list with min_value=6 and max_value=9: [{'a': 8, 'b': 4}, {'a': 10, 'b': 5}]\n",
      "Filtered list with no min_value and no max_value: [{'a': 1, 'b': 2}, {'a': 5, 'b': 3}, {'a': 8, 'b': 4}, {'a': 10, 'b': 5}]\n"
     ]
    }
   ],
   "source": [
    "def filter_dicts_by_a(list_of_dicts, min_value=None, max_value=None):\n",
    "    # Define the filtering function based on the provided min and/or max values\n",
    "    def is_within_range(d):\n",
    "        if min_value is not None and d['a'] < min_value:\n",
    "            return False\n",
    "        if max_value is not None and d['a'] > max_value:\n",
    "            return False\n",
    "        return True\n",
    "\n",
    "    # Apply the filtering function to the list\n",
    "    return [d for d in list_of_dicts if is_within_range(d)]\n",
    "\n",
    "# Sample list of dictionaries\n",
    "list_of_dicts = [\n",
    "    {'a': 1, 'b': 2},\n",
    "    {'a': 5, 'b': 3},\n",
    "    {'a': 8, 'b': 4},\n",
    "    {'a': 10, 'b': 5}\n",
    "]\n",
    "\n",
    "# Examples of calling the function with different conditions\n",
    "\n",
    "# Case 1: Only min_value is provided\n",
    "filtered_list_min = filter_dicts_by_a(list_of_dicts, min_value=6)\n",
    "print(f\"Filtered list with min_value=6: {filtered_list_min}\")\n",
    "\n",
    "# Case 2: Only max_value is provided\n",
    "filtered_list_max = filter_dicts_by_a(list_of_dicts, max_value=7)\n",
    "print(f\"Filtered list with max_value=7: {filtered_list_max}\")\n",
    "\n",
    "# Case 3: Both min_value and max_value are provided\n",
    "filtered_list_range = filter_dicts_by_a(list_of_dicts, min_value=6)\n",
    "print(f\"Filtered list with min_value=6 and max_value=9: {filtered_list_range}\")\n",
    "\n",
    "# Case 4: Neither min_value nor max_value is provided\n",
    "filtered_list_all = filter_dicts_by_a(list_of_dicts)\n",
    "print(f\"Filtered list with no min_value and no max_value: {filtered_list_all}\")\n"
   ]
  },
  {
   "cell_type": "code",
   "execution_count": null,
   "metadata": {},
   "outputs": [],
   "source": []
  }
 ],
 "metadata": {
  "kernelspec": {
   "display_name": "quizify",
   "language": "python",
   "name": "python3"
  },
  "language_info": {
   "codemirror_mode": {
    "name": "ipython",
    "version": 3
   },
   "file_extension": ".py",
   "mimetype": "text/x-python",
   "name": "python",
   "nbconvert_exporter": "python",
   "pygments_lexer": "ipython3",
   "version": "3.12.3"
  }
 },
 "nbformat": 4,
 "nbformat_minor": 2
}
